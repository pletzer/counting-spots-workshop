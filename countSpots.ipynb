{
 "cells": [
  {
   "cell_type": "markdown",
   "metadata": {
    "colab_type": "text",
    "id": "4MQ_yeaXGGvF"
   },
   "source": [
    "# Spot the spots\n",
    "\n",
    "## Introduction to Machine Learning on NeSI Workshop\n",
    "\n",
    "This notebook shows how machine learning can be applied to feature detection. You're faced with the tedious task of counting \"spots\" present in a large number of data samples. The spots may represent pictures of fishes, tropical cyclones, skin moles, tumours or black holes - you choose.\n",
    "\n",
    "*You want to hand over the task to a machine so you can spend more time relaxing with friends, family or at the beach.*"
   ]
  },
  {
   "cell_type": "markdown",
   "metadata": {},
   "source": [
    "## Requirements\n",
    "\n",
    "You will need:\n",
    "    \n",
    " * Python 3\n",
    " * NumPy\n",
    " * Matplotlib\n",
    " * TensorFlow 2.0"
   ]
  },
  {
   "cell_type": "markdown",
   "metadata": {
    "colab_type": "text",
    "id": "eeTk9C4kSqGR"
   },
   "source": [
    "## Input parameters for the dataset"
   ]
  },
  {
   "cell_type": "code",
   "execution_count": 1,
   "metadata": {
    "colab": {},
    "colab_type": "code",
    "id": "eB9GyZ4gGBJj"
   },
   "outputs": [],
   "source": [
    "# dataset input values - feel free to change\n",
    "numTrain = 1000    # number of training samples\n",
    "numTest = 100      # number of testing samples\n",
    "numCells = 40      # the data have size numCells x numCells\n",
    "maxNumSpots = 5    # the maximum number of spots 0...maxNumSpots"
   ]
  },
  {
   "cell_type": "markdown",
   "metadata": {},
   "source": [
    "## Reproducible results for testing the model\n",
    "\n",
    "Setting the random seeds ensures you will get the same results when running this notebook from the start (Restart and Run All). Feel free change the seed value or comment out this block to test your model on different data."
   ]
  },
  {
   "cell_type": "code",
   "execution_count": 2,
   "metadata": {
    "colab": {},
    "colab_type": "code",
    "id": "LILclWIoGgk7"
   },
   "outputs": [],
   "source": [
    "random_seed = 123\n",
    "\n",
    "import numpy as np\n",
    "np.random.seed(random_seed)\n",
    "\n",
    "import tensorflow as tf\n",
    "tf.random.set_seed(random_seed)\n",
    "\n",
    "import random\n",
    "random.seed(random_seed)"
   ]
  },
  {
   "cell_type": "markdown",
   "metadata": {},
   "source": [
    "## Where the code will run\n",
    "\n",
    "Uncomment these commands to show what devices are available and are being used."
   ]
  },
  {
   "cell_type": "code",
   "execution_count": 3,
   "metadata": {},
   "outputs": [],
   "source": [
    "# list available GPUs\n",
    "#tf.config.experimental.list_physical_devices()"
   ]
  },
  {
   "cell_type": "code",
   "execution_count": 4,
   "metadata": {},
   "outputs": [],
   "source": [
    "# print info about which device operations are running on\n",
    "#tf.debugging.set_log_device_placement(True)"
   ]
  },
  {
   "cell_type": "markdown",
   "metadata": {
    "colab_type": "text",
    "id": "6cR7592zS0nI"
   },
   "source": [
    "## Some convenience functions"
   ]
  },
  {
   "cell_type": "markdown",
   "metadata": {
    "colab_type": "text",
    "id": "22gecBZaGasA"
   },
   "source": [
    "### Function to generate random samples\n",
    "\n",
    "Each sample is a 2d image/data with spots at random locations."
   ]
  },
  {
   "cell_type": "code",
   "execution_count": 5,
   "metadata": {
    "colab": {},
    "colab_type": "code",
    "id": "LILclWIoGgk7"
   },
   "outputs": [],
   "source": [
    "# define the 2d grid\n",
    "xs = np.linspace(0., 1., numCells)\n",
    "ys = np.linspace(0., 1., numCells)\n",
    "xxs, yys = np.meshgrid(xs, ys)\n",
    "\n",
    "def generateRandomSamples(numSamples):\n",
    "    \"\"\"\n",
    "    Generate samples containing random data with spots (Gaussian field over zero background)\n",
    "    @param numSamples number of samples to generate\n",
    "    @return samplesInput array containing data for the samples\n",
    "    @return samplesOutput vector with the correct number of spots in each sample\n",
    "    \n",
    "    \"\"\"\n",
    "    # allocate memory\n",
    "    samplesInput = np.zeros((numSamples, numCells, numCells), np.float32)\n",
    "    samplesOutput = np.zeros((numSamples,), np.int8)\n",
    "    # create the samples\n",
    "    for sample in range(numSamples):\n",
    "        numSpots = int(maxNumSpots * np.random.random() + 0.5)\n",
    "        data = samplesInput[sample, ...]\n",
    "        for i in range(numSpots):\n",
    "            # random radius\n",
    "            rad = 0.1 + 0.0*np.random.random()  # currently fixed radius of 0.1\n",
    "            # random location\n",
    "            x0, y0 = 0.1 + 0.8*np.random.random(), 0.1 + 0.8*np.random.random()\n",
    "            data += np.exp( -((xxs - x0)**2 + (yys - y0)**2)/rad**2 )\n",
    "        # normalize, filter nans\n",
    "        maxVal = data.max()\n",
    "        if maxVal != 0:\n",
    "            data /= maxVal\n",
    "        data = np.nan_to_num(data)\n",
    "        samplesOutput[sample] = numSpots\n",
    "  \n",
    "    return samplesInput, samplesOutput"
   ]
  },
  {
   "cell_type": "markdown",
   "metadata": {
    "colab_type": "text",
    "id": "uZH-qbG625OG"
   },
   "source": [
    "### Function to plot the data"
   ]
  },
  {
   "cell_type": "code",
   "execution_count": 6,
   "metadata": {
    "colab": {},
    "colab_type": "code",
    "id": "X0a4Z_KvJesY"
   },
   "outputs": [],
   "source": [
    "import matplotlib.pylab as plt\n",
    "\n",
    "numCols = 5\n",
    "def plotData(iBeg, iEnd, dataInput, dataOutput, dataReferenceOutput=[]):\n",
    "    \"\"\"\n",
    "    Plot the data\n",
    "    @param iBeg start index in the dataset (list of 2D data)\n",
    "    @param iEnd one past the last index in the dataset\n",
    "    @param dataInput dataset\n",
    "    @param dataOutput number of spots for each data array\n",
    "    @param dataReferenceOutput correct number of spots for each data array\n",
    "  \n",
    "    \"\"\"\n",
    "    numPlots = iEnd - iBeg\n",
    "    numRows = numPlots // numCols\n",
    "    if numPlots % numCols > 0:\n",
    "        numRows += 1\n",
    "    for i in range(iBeg, iEnd):\n",
    "        plt.subplot(numRows, numCols, i - iBeg + 1)\n",
    "        plt.imshow(dataInput[i, ...], cmap='YlOrBr')\n",
    "        plt.axis('off')\n",
    "        txt = '{:.1f}'.format(dataOutput[i])\n",
    "        if len(dataReferenceOutput) > 0:\n",
    "            txt += ' ({})'.format(dataReferenceOutput[i])\n",
    "        plt.title(txt, fontsize=8)\n",
    "    plt.show()"
   ]
  },
  {
   "cell_type": "markdown",
   "metadata": {
    "colab_type": "text",
    "id": "0YWcSMMqK0H8"
   },
   "source": [
    "## Creating the training samples"
   ]
  },
  {
   "cell_type": "code",
   "execution_count": 7,
   "metadata": {
    "colab": {},
    "colab_type": "code",
    "id": "FW3bKnFEK3Iw"
   },
   "outputs": [
    {
     "data": {
      "image/png": "[encoded data removed]",
      "text/plain": [
       "<Figure size 432x288 with 10 Axes>"
      ]
     },
     "metadata": {
      "needs_background": "light"
     },
     "output_type": "display_data"
    }
   ],
   "source": [
    "trainInput, trainOutput = generateRandomSamples(numTrain)\n",
    "plotData(0, min(10, numTrain), trainInput, trainOutput)  # plotting a subset of the training dataset"
   ]
  },
  {
   "cell_type": "markdown",
   "metadata": {
    "colab_type": "text",
    "id": "RfbLH7mzVjke"
   },
   "source": [
    "## Creating the test samples"
   ]
  },
  {
   "cell_type": "code",
   "execution_count": 8,
   "metadata": {
    "colab": {},
    "colab_type": "code",
    "id": "4cbhKsF1GZQB"
   },
   "outputs": [
    {
     "data": {
      "image/png": "[encoded data removed]",
      "text/plain": [
       "<Figure size 432x288 with 10 Axes>"
      ]
     },
     "metadata": {
      "needs_background": "light"
     },
     "output_type": "display_data"
    }
   ],
   "source": [
    "testInput, testOutput = generateRandomSamples(numTest)\n",
    "plotData(0, min(10, numTest), testInput, testOutput)  # plotting a subset of the testing dataset"
   ]
  },
  {
   "cell_type": "markdown",
   "metadata": {
    "colab_type": "text",
    "id": "QDOtXwfzWRNG"
   },
   "source": [
    "## Creating a neural network"
   ]
  },
  {
   "cell_type": "code",
   "execution_count": 9,
   "metadata": {
    "colab": {
     "base_uri": "https://localhost:8080/",
     "height": 793
    },
    "colab_type": "code",
    "id": "EQAdT3ObWNOj",
    "outputId": "8f05bd46-e2a4-4ca4-cfc9-91027b7c32fa"
   },
   "outputs": [
    {
     "name": "stdout",
     "output_type": "stream",
     "text": [
      "Model: \"sequential\"\n",
      "_________________________________________________________________\n",
      "Layer (type)                 Output Shape              Param #   \n",
      "=================================================================\n",
      "conv2d (Conv2D)              (None, 40, 40, 8)         80        \n",
      "_________________________________________________________________\n",
      "max_pooling2d (MaxPooling2D) (None, 20, 20, 8)         0         \n",
      "_________________________________________________________________\n",
      "conv2d_1 (Conv2D)            (None, 20, 20, 8)         584       \n",
      "_________________________________________________________________\n",
      "max_pooling2d_1 (MaxPooling2 (None, 10, 10, 8)         0         \n",
      "_________________________________________________________________\n",
      "flatten (Flatten)            (None, 800)               0         \n",
      "_________________________________________________________________\n",
      "dense (Dense)                (None, 1)                 801       \n",
      "=================================================================\n",
      "Total params: 1,465\n",
      "Trainable params: 1,465\n",
      "Non-trainable params: 0\n",
      "_________________________________________________________________\n"
     ]
    }
   ],
   "source": [
    "from tensorflow import keras\n",
    "\n",
    "# build the neural network\n",
    "model = keras.Sequential()\n",
    "\n",
    "# first layer - looking at fine details. Provide input_shape for the first layer\n",
    "model.add( keras.layers.Conv2D(8, kernel_size=(3,3), strides=(1,1),\n",
    "                             padding='same', data_format='channels_last',\n",
    "                             activation='relu', input_shape=(numCells, numCells, 1)) )\n",
    "model.add( keras.layers.MaxPooling2D(pool_size=(2, 2)) )  # which filter most successful in identifying certain feature\n",
    "\n",
    "# second layer - looking at coarser details...\n",
    "model.add( keras.layers.Conv2D(8, kernel_size=(3,3), strides=(1,1),\n",
    "                             padding='same', data_format='channels_last',\n",
    "                             activation='relu') )\n",
    "model.add( keras.layers.MaxPooling2D(pool_size=(2, 2)) ) # pool size\n",
    "\n",
    "# add a dense layer with linear regression\n",
    "model.add( keras.layers.Flatten() )\n",
    "model.add( keras.layers.Dense(1) )  # only one output (approx num spots)\n",
    "# could have mapped into an array (output), max num spots elements, output is probability of each number spots\n",
    "\n",
    "# give a summary of the model\n",
    "model.summary()\n",
    "\n",
    "# configure the model for training\n",
    "model.compile(optimizer='adam', loss='mean_squared_error',\n",
    "              metrics=['accuracy'])"
   ]
  },
  {
   "cell_type": "markdown",
   "metadata": {},
   "source": [
    "## Training the neural network\n",
    "\n",
    "The input is a 4d tensor which should have shape (samples, rows, cols, channels) since we specified \"channels_last\" as the data format above. Thus we have to reshape our 3d array to add a channel dimension."
   ]
  },
  {
   "cell_type": "code",
   "execution_count": 10,
   "metadata": {
    "colab": {
     "base_uri": "https://localhost:8080/",
     "height": 793
    },
    "colab_type": "code",
    "id": "EQAdT3ObWNOj",
    "outputId": "8f05bd46-e2a4-4ca4-cfc9-91027b7c32fa"
   },
   "outputs": [
    {
     "name": "stdout",
     "output_type": "stream",
     "text": [
      "Train on 700 samples, validate on 300 samples\n",
      "Epoch 1/10\n",
      "700/700 [==============================] - 1s 2ms/sample - loss: 4.5501 - accuracy: 0.1729 - val_loss: 0.6553 - val_accuracy: 0.2133\n",
      "Epoch 2/10\n",
      "700/700 [==============================] - 0s 355us/sample - loss: 0.8682 - accuracy: 0.2000 - val_loss: 0.6421 - val_accuracy: 0.2133\n",
      "Epoch 3/10\n",
      "700/700 [==============================] - 0s 322us/sample - loss: 0.6247 - accuracy: 0.2000 - val_loss: 0.4811 - val_accuracy: 0.2133\n",
      "Epoch 4/10\n",
      "700/700 [==============================] - 0s 321us/sample - loss: 0.5342 - accuracy: 0.2671 - val_loss: 0.4259 - val_accuracy: 0.3200\n",
      "Epoch 5/10\n",
      "700/700 [==============================] - 0s 319us/sample - loss: 0.4999 - accuracy: 0.3014 - val_loss: 0.4069 - val_accuracy: 0.3200\n",
      "Epoch 6/10\n",
      "700/700 [==============================] - 0s 320us/sample - loss: 0.4778 - accuracy: 0.3014 - val_loss: 0.3903 - val_accuracy: 0.3200\n",
      "Epoch 7/10\n",
      "700/700 [==============================] - 0s 319us/sample - loss: 0.4620 - accuracy: 0.3014 - val_loss: 0.3848 - val_accuracy: 0.3200\n",
      "Epoch 8/10\n",
      "700/700 [==============================] - 0s 323us/sample - loss: 0.4602 - accuracy: 0.3014 - val_loss: 0.3772 - val_accuracy: 0.3200\n",
      "Epoch 9/10\n",
      "700/700 [==============================] - 0s 318us/sample - loss: 0.4542 - accuracy: 0.3014 - val_loss: 0.3763 - val_accuracy: 0.3200\n",
      "Epoch 10/10\n",
      "700/700 [==============================] - 0s 319us/sample - loss: 0.4462 - accuracy: 0.3014 - val_loss: 0.3809 - val_accuracy: 0.3200\n"
     ]
    }
   ],
   "source": [
    "numEpochs = 10\n",
    "history = model.fit(trainInput.reshape(-1, numCells, numCells, 1),\n",
    "                    trainOutput, epochs=numEpochs, validation_split = 0.3)"
   ]
  },
  {
   "cell_type": "markdown",
   "metadata": {},
   "source": [
    "## Plotting the model performance"
   ]
  },
  {
   "cell_type": "code",
   "execution_count": 11,
   "metadata": {},
   "outputs": [
    {
     "data": {
      "image/png": "[encoded data removed]",
      "text/plain": [
       "<Figure size 432x288 with 1 Axes>"
      ]
     },
     "metadata": {
      "needs_background": "light"
     },
     "output_type": "display_data"
    }
   ],
   "source": [
    "# plot the loss against epoch\n",
    "plt.plot(history.history['loss'], label='loss')\n",
    "plt.plot(history.history['val_loss'], label='val loss')\n",
    "plt.xlabel('Epoch')\n",
    "plt.ylabel('Loss')\n",
    "plt.ylim([0, 1])\n",
    "plt.legend(loc='best')\n",
    "plt.show()"
   ]
  },
  {
   "cell_type": "markdown",
   "metadata": {
    "colab_type": "text",
    "id": "xrn3IG8YYI9D"
   },
   "source": [
    "## Predicting the the number of spots in each test sample"
   ]
  },
  {
   "cell_type": "code",
   "execution_count": 12,
   "metadata": {
    "colab": {
     "base_uri": "https://localhost:8080/",
     "height": 134
    },
    "colab_type": "code",
    "id": "ORR1x-s_YLjX",
    "outputId": "a834fc5f-0e7e-4adc-b899-8af8066ce8ef"
   },
   "outputs": [
    {
     "name": "stdout",
     "output_type": "stream",
     "text": [
      "[ 0.  0.  0.  0. -1.  0.  0.  0.  0. -1.  0.  0.  0.  0. -1.  0.  1.  0.\n",
      "  0.  0.  0.  0.  0.  1.  0. -1.  0.  0.  0.  0.  0. -1.  0.  0.  0.  1.\n",
      "  0.  0. -1.  0. -1.  0.  0. -2.  0.  0.  1.  0.  0.  0.  0.  0.  0.  0.\n",
      "  1.  0.  0.  0. -1.  0.  0. -2. -1.  0.  0. -1. -1.  0. -1.  0.  0.  0.\n",
      "  0.  1.  0.  0.  0.  0.  0.  0.  0.  0.  0.  0.  0.  0. -1.  0. -1.  0.\n",
      "  0. -2.  0.  0. -1.  0. -1.  0. -1.  0.]\n",
      "num errors = 26 (26.0 %)\n"
     ]
    }
   ],
   "source": [
    "predictions = model.predict(testInput.reshape(-1, numCells, numCells, 1))[:, 0]\n",
    "# compute the errors: difference between predictions and testOuput\n",
    "errors = np.round(predictions) - testOutput\n",
    "numErrors = (errors != 0).sum()\n",
    "print(errors)\n",
    "print(f'num errors = {numErrors} ({100*numErrors/numTest} %)')\n",
    "# could use f'{numErrors}'"
   ]
  },
  {
   "cell_type": "markdown",
   "metadata": {
    "colab_type": "text",
    "id": "KfdSdvj84GaR"
   },
   "source": [
    "\n",
    "Plotting datasets for which the predictions were wrong"
   ]
  },
  {
   "cell_type": "code",
   "execution_count": 13,
   "metadata": {
    "colab": {
     "base_uri": "https://localhost:8080/",
     "height": 237
    },
    "colab_type": "code",
    "id": "zz01RfV3jwyC",
    "outputId": "05524024-e5c8-4d68-e5c2-756bcf16696c"
   },
   "outputs": [
    {
     "data": {
      "image/png": "[encoded data removed]",
      "text/plain": [
       "<Figure size 432x288 with 10 Axes>"
      ]
     },
     "metadata": {
      "needs_background": "light"
     },
     "output_type": "display_data"
    }
   ],
   "source": [
    "inds = np.nonzero(errors != 0)[0]\n",
    "failuresInput = testInput[inds, :]\n",
    "failuresOutput = predictions[inds]\n",
    "correctOutput = testOutput[inds]\n",
    "numFailures = len(failuresOutput)\n",
    "plotData(0, min(10, numFailures), failuresInput, failuresOutput, correctOutput)"
   ]
  },
  {
   "cell_type": "markdown",
   "metadata": {},
   "source": [
    "## Exercise\n",
    "\n",
    "Try to improve our initial model. Feel free to change anything above, such as:\n",
    "\n",
    "* parameters for the layers (convolution, pooling, dense - see for example the [convolution layers documentation](https://keras.io/layers/convolutional/))\n",
    "  - number of filters, kernel size, stride, etc.\n",
    "* add or remove layers (e.g. convolution, pooling, dense layers)\n",
    "* adjust other parameters, e.g. the size of the input dataset\n",
    "\n",
    "See if you can reduce the error.\n",
    "\n",
    "Once you have improved improved your model, try changing the random seed and see if the behaviour changes."
   ]
  }
 ],
 "metadata": {
  "colab": {
   "collapsed_sections": [],
   "name": "countSpots.ipynb",
   "provenance": [],
   "version": "0.3.2"
  },
  "kernelspec": {
   "display_name": "Python 3",
   "language": "python",
   "name": "python3"
  },
  "language_info": {
   "codemirror_mode": {
    "name": "ipython",
    "version": 3
   },
   "file_extension": ".py",
   "mimetype": "text/x-python",
   "name": "python",
   "nbconvert_exporter": "python",
   "pygments_lexer": "ipython3",
   "version": "3.7.5"
  }
 },
 "nbformat": 4,
 "nbformat_minor": 4
}
