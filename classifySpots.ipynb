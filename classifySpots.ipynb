{
 "cells": [
  {
   "cell_type": "markdown",
   "metadata": {
    "colab_type": "text",
    "id": "4MQ_yeaXGGvF"
   },
   "source": [
    "# Spot the spots\n",
    "\n",
    "## Introduction to Machine Learning on NeSI Workshop\n",
    "\n",
    "This notebook shows how machine learning can be applied to feature detection. You're faced with the tedious task of counting \"spots\" present in a large number of data samples. The spots may represent pictures of fishes, tropical cyclones, skin moles, tumours or black holes - you choose.\n",
    "\n",
    "*In this version the number of spots are classified into separate categories.*"
   ]
  },
  {
   "cell_type": "markdown",
   "metadata": {},
   "source": [
    "## Requirements\n",
    "\n",
    "You will need:\n",
    "    \n",
    " * Python 3\n",
    " * NumPy\n",
    " * Matplotlib\n",
    " * TensorFlow 2.0"
   ]
  },
  {
   "cell_type": "markdown",
   "metadata": {
    "colab_type": "text",
    "id": "eeTk9C4kSqGR"
   },
   "source": [
    "## Input parameters for the dataset"
   ]
  },
  {
   "cell_type": "code",
   "execution_count": 1,
   "metadata": {
    "colab": {},
    "colab_type": "code",
    "id": "eB9GyZ4gGBJj"
   },
   "outputs": [],
   "source": [
    "# dataset input values - feel free to change\n",
    "numTrain = 1000     # number of training samples\n",
    "numTest = 100      # number of testing samples\n",
    "numCells = 40      # the data have size numCells x numCells\n",
    "maxNumSpots = 5    # the maximum number of spots 0...maxNumSpots\n",
    "categories = ['<=1', '==2', '==3', '>=4'] # classification categories (1 spot or less, 2 spots, etc.)"
   ]
  },
  {
   "cell_type": "markdown",
   "metadata": {},
   "source": [
    "## Reproducible results for testing the model\n",
    "\n",
    "Setting the random seeds ensures you will get the same results when running this notebook from the start (Restart and Run All). Feel free change the seed value or comment out this block to test your model on different data."
   ]
  },
  {
   "cell_type": "code",
   "execution_count": 2,
   "metadata": {
    "colab": {},
    "colab_type": "code",
    "id": "LILclWIoGgk7"
   },
   "outputs": [],
   "source": [
    "random_seed = 123\n",
    "\n",
    "import numpy as np\n",
    "np.random.seed(random_seed)\n",
    "\n",
    "import tensorflow as tf\n",
    "tf.random.set_seed(random_seed)\n",
    "\n",
    "import random\n",
    "random.seed(random_seed)"
   ]
  },
  {
   "cell_type": "markdown",
   "metadata": {},
   "source": [
    "## Where the code will run\n",
    "\n",
    "Uncomment these commands to show what devices are available and are being used."
   ]
  },
  {
   "cell_type": "code",
   "execution_count": 3,
   "metadata": {},
   "outputs": [],
   "source": [
    "# list available GPUs\n",
    "#tf.config.experimental.list_physical_devices()"
   ]
  },
  {
   "cell_type": "code",
   "execution_count": 4,
   "metadata": {},
   "outputs": [],
   "source": [
    "# print info about which device operations are running on\n",
    "#tf.debugging.set_log_device_placement(True)"
   ]
  },
  {
   "cell_type": "markdown",
   "metadata": {
    "colab_type": "text",
    "id": "6cR7592zS0nI"
   },
   "source": [
    "## Some convenience functions"
   ]
  },
  {
   "cell_type": "markdown",
   "metadata": {
    "colab_type": "text",
    "id": "22gecBZaGasA"
   },
   "source": [
    "### Function to generate random samples\n",
    "\n",
    "Each sample is a 2d image/data with spots at random locations."
   ]
  },
  {
   "cell_type": "code",
   "execution_count": 5,
   "metadata": {
    "colab": {},
    "colab_type": "code",
    "id": "LILclWIoGgk7"
   },
   "outputs": [],
   "source": [
    "# define the 2d grid\n",
    "xs = np.linspace(0., 1., numCells)\n",
    "ys = np.linspace(0., 1., numCells)\n",
    "xxs, yys = np.meshgrid(xs, ys)\n",
    "\n",
    "def generateRandomSamples(numSamples):\n",
    "    \"\"\"\n",
    "    Generate samples containing random data with spots (Gaussian field over zero background)\n",
    "    @param numSamples number of samples to generate\n",
    "    @return samplesInput array containing data for the samples\n",
    "    @return samplesOutput vector with the correct number of spots in each sample\n",
    "    \n",
    "    \"\"\"\n",
    "    # allocate memory\n",
    "    samplesInput = np.zeros((numSamples, numCells, numCells), np.float32)\n",
    "    samplesOutput = np.zeros((numSamples,), np.int8)\n",
    "    # create the samples\n",
    "    for sample in range(numSamples):\n",
    "        numSpots = int(maxNumSpots * np.random.random() + 0.5)\n",
    "        data = samplesInput[sample, ...]\n",
    "        for i in range(numSpots):\n",
    "            # random radius\n",
    "            rad = 0.1 + 0.0*np.random.random()  # currently fixed radius of 0.1\n",
    "            # random location\n",
    "            x0, y0 = 0.1 + 0.8*np.random.random(), 0.1 + 0.8*np.random.random()\n",
    "            data += np.exp( -((xxs - x0)**2 + (yys - y0)**2)/rad**2 )\n",
    "        # normalize, filter nans\n",
    "        maxVal = data.max()\n",
    "        if maxVal != 0:\n",
    "            data /= maxVal\n",
    "        data = np.nan_to_num(data)\n",
    "        # map the number of spots to one of our categories (classIndex is \n",
    "        # in the range 0...len(categories) - 1)\n",
    "        classIndex = [eval(f'{numSpots}' + c) for c in categories].index(True)\n",
    "        samplesOutput[sample] = classIndex\n",
    "  \n",
    "    return samplesInput, samplesOutput"
   ]
  },
  {
   "cell_type": "markdown",
   "metadata": {
    "colab_type": "text",
    "id": "uZH-qbG625OG"
   },
   "source": [
    "### Function to plot the data"
   ]
  },
  {
   "cell_type": "code",
   "execution_count": 6,
   "metadata": {
    "colab": {},
    "colab_type": "code",
    "id": "X0a4Z_KvJesY"
   },
   "outputs": [],
   "source": [
    "import matplotlib.pylab as plt\n",
    "\n",
    "numCols = 5\n",
    "def plotData(iBeg, iEnd, dataInput, dataOutput, dataReferenceOutput=[]):\n",
    "    \"\"\"\n",
    "    Plot the data\n",
    "    @param iBeg start index in the dataset (list of 2D data)\n",
    "    @param iEnd one past the last index in the dataset\n",
    "    @param dataInput dataset\n",
    "    @param dataOutput number of spots for each data array\n",
    "    @param dataReferenceOutput correct number of spots for each data array\n",
    "  \n",
    "    \"\"\"\n",
    "    numPlots = iEnd - iBeg\n",
    "    numRows = numPlots // numCols\n",
    "    if numPlots % numCols > 0:\n",
    "        numRows += 1\n",
    "    for i in range(iBeg, iEnd):\n",
    "        plt.subplot(numRows, numCols, i - iBeg + 1)\n",
    "        plt.imshow(dataInput[i, ...], cmap='YlOrBr')\n",
    "        plt.axis('off')\n",
    "        txt = f'{categories[dataOutput[i]]}'\n",
    "        if len(dataReferenceOutput) > 0:\n",
    "            txt += f' (ex {dataReferenceOutput[i]})'\n",
    "        plt.title(txt, fontsize=8)\n",
    "    plt.show()"
   ]
  },
  {
   "cell_type": "markdown",
   "metadata": {
    "colab_type": "text",
    "id": "0YWcSMMqK0H8"
   },
   "source": [
    "## Creating the training samples"
   ]
  },
  {
   "cell_type": "code",
   "execution_count": 7,
   "metadata": {
    "colab": {},
    "colab_type": "code",
    "id": "FW3bKnFEK3Iw"
   },
   "outputs": [
    {
     "data": {
      "image/png": "[encoded data removed]",
      "text/plain": [
       "<Figure size 432x288 with 10 Axes>"
      ]
     },
     "metadata": {
      "needs_background": "light"
     },
     "output_type": "display_data"
    }
   ],
   "source": [
    "trainInput, trainOutput = generateRandomSamples(numTrain)\n",
    "plotData(0, min(10, numTrain), trainInput, trainOutput)  # plotting a subset of the training dataset"
   ]
  },
  {
   "cell_type": "markdown",
   "metadata": {
    "colab_type": "text",
    "id": "RfbLH7mzVjke"
   },
   "source": [
    "## Creating the test samples"
   ]
  },
  {
   "cell_type": "code",
   "execution_count": 8,
   "metadata": {
    "colab": {},
    "colab_type": "code",
    "id": "4cbhKsF1GZQB"
   },
   "outputs": [
    {
     "data": {
      "image/png": "[encoded data removed]",
      "text/plain": [
       "<Figure size 432x288 with 10 Axes>"
      ]
     },
     "metadata": {
      "needs_background": "light"
     },
     "output_type": "display_data"
    }
   ],
   "source": [
    "testInput, testOutput = generateRandomSamples(numTest)\n",
    "plotData(0, min(10, numTest), testInput, testOutput)  # plotting a subset of the testing dataset"
   ]
  },
  {
   "cell_type": "markdown",
   "metadata": {
    "colab_type": "text",
    "id": "QDOtXwfzWRNG"
   },
   "source": [
    "## Creating a neural network"
   ]
  },
  {
   "cell_type": "code",
   "execution_count": 9,
   "metadata": {
    "colab": {
     "base_uri": "https://localhost:8080/",
     "height": 793
    },
    "colab_type": "code",
    "id": "EQAdT3ObWNOj",
    "outputId": "8f05bd46-e2a4-4ca4-cfc9-91027b7c32fa"
   },
   "outputs": [
    {
     "name": "stdout",
     "output_type": "stream",
     "text": [
      "Model: \"sequential\"\n",
      "_________________________________________________________________\n",
      "Layer (type)                 Output Shape              Param #   \n",
      "=================================================================\n",
      "conv2d (Conv2D)              (None, 40, 40, 8)         80        \n",
      "_________________________________________________________________\n",
      "max_pooling2d (MaxPooling2D) (None, 20, 20, 8)         0         \n",
      "_________________________________________________________________\n",
      "conv2d_1 (Conv2D)            (None, 20, 20, 8)         584       \n",
      "_________________________________________________________________\n",
      "max_pooling2d_1 (MaxPooling2 (None, 10, 10, 8)         0         \n",
      "_________________________________________________________________\n",
      "flatten (Flatten)            (None, 800)               0         \n",
      "_________________________________________________________________\n",
      "dense (Dense)                (None, 4)                 3204      \n",
      "=================================================================\n",
      "Total params: 3,868\n",
      "Trainable params: 3,868\n",
      "Non-trainable params: 0\n",
      "_________________________________________________________________\n"
     ]
    }
   ],
   "source": [
    "from tensorflow import keras\n",
    "\n",
    "# build the neural network\n",
    "model = keras.Sequential()\n",
    "\n",
    "# first layer - looking at fine details\n",
    "model.add( keras.layers.Conv2D(8, kernel_size=(3,3), strides=(1,1),\n",
    "                             padding='same', data_format='channels_last',\n",
    "                             activation='relu', input_shape=(numCells, numCells, 1)) )\n",
    "model.add( keras.layers.MaxPooling2D(pool_size=(2, 2)) )  # which filter most successful in identifying certain feature\n",
    "\n",
    "# second layer - looking at coarser details...\n",
    "model.add( keras.layers.Conv2D(8, kernel_size=(3,3), strides=(1,1),\n",
    "                             padding='same', data_format='channels_last',\n",
    "                             activation='relu') )\n",
    "model.add( keras.layers.MaxPooling2D(pool_size=(2, 2)) ) # pool size\n",
    "\n",
    "# add a dense layer with linear regression\n",
    "model.add( keras.layers.Flatten() )\n",
    "model.add( keras.layers.Dense(len(categories), activation='softmax') )  # as many outputs as there are categories\n",
    "# could have mapped into an array (output), max num spots elements, output is probability of each number spots\n",
    "\n",
    "# give a summary of the model\n",
    "model.summary()\n",
    "\n",
    "# configure the model for training\n",
    "model.compile(optimizer='adam', \n",
    "              loss='sparse_categorical_crossentropy',\n",
    "              metrics=['accuracy'])"
   ]
  },
  {
   "cell_type": "markdown",
   "metadata": {},
   "source": [
    "## Training the neural network\n",
    "\n",
    "The input is a 4d tensor which should have shape (samples, rows, cols, channels) since we specified \"channels_last\" as the data format above. Thus we have to reshape our 3d array to add a channel dimension."
   ]
  },
  {
   "cell_type": "code",
   "execution_count": 10,
   "metadata": {
    "colab": {
     "base_uri": "https://localhost:8080/",
     "height": 793
    },
    "colab_type": "code",
    "id": "EQAdT3ObWNOj",
    "outputId": "8f05bd46-e2a4-4ca4-cfc9-91027b7c32fa"
   },
   "outputs": [
    {
     "name": "stdout",
     "output_type": "stream",
     "text": [
      "Train on 700 samples, validate on 300 samples\n",
      "Epoch 1/20\n",
      "700/700 [==============================] - 1s 2ms/sample - loss: 1.3232 - accuracy: 0.3471 - val_loss: 1.3073 - val_accuracy: 0.3767\n",
      "Epoch 2/20\n",
      "700/700 [==============================] - 0s 439us/sample - loss: 1.2685 - accuracy: 0.3986 - val_loss: 1.2958 - val_accuracy: 0.3733\n",
      "Epoch 3/20\n",
      "700/700 [==============================] - 0s 434us/sample - loss: 1.2493 - accuracy: 0.4071 - val_loss: 1.2931 - val_accuracy: 0.3767\n",
      "Epoch 4/20\n",
      "700/700 [==============================] - 0s 466us/sample - loss: 1.2283 - accuracy: 0.4286 - val_loss: 1.2902 - val_accuracy: 0.4000\n",
      "Epoch 5/20\n",
      "700/700 [==============================] - 0s 449us/sample - loss: 1.1812 - accuracy: 0.4743 - val_loss: 1.1881 - val_accuracy: 0.4600\n",
      "Epoch 6/20\n",
      "700/700 [==============================] - 0s 466us/sample - loss: 0.9936 - accuracy: 0.6000 - val_loss: 0.9720 - val_accuracy: 0.5767\n",
      "Epoch 7/20\n",
      "700/700 [==============================] - 0s 503us/sample - loss: 0.7915 - accuracy: 0.6743 - val_loss: 0.8111 - val_accuracy: 0.6100\n",
      "Epoch 8/20\n",
      "700/700 [==============================] - 0s 461us/sample - loss: 0.6734 - accuracy: 0.7071 - val_loss: 0.7447 - val_accuracy: 0.6133\n",
      "Epoch 9/20\n",
      "700/700 [==============================] - 0s 481us/sample - loss: 0.6231 - accuracy: 0.7329 - val_loss: 0.7104 - val_accuracy: 0.6267\n",
      "Epoch 10/20\n",
      "700/700 [==============================] - 0s 474us/sample - loss: 0.5806 - accuracy: 0.7457 - val_loss: 0.6448 - val_accuracy: 0.7233\n",
      "Epoch 11/20\n",
      "700/700 [==============================] - 0s 444us/sample - loss: 0.5511 - accuracy: 0.7786 - val_loss: 0.6465 - val_accuracy: 0.7100\n",
      "Epoch 12/20\n",
      "700/700 [==============================] - 0s 450us/sample - loss: 0.5332 - accuracy: 0.7643 - val_loss: 0.6417 - val_accuracy: 0.6933\n",
      "Epoch 13/20\n",
      "700/700 [==============================] - 0s 447us/sample - loss: 0.5341 - accuracy: 0.7629 - val_loss: 0.6050 - val_accuracy: 0.7167\n",
      "Epoch 14/20\n",
      "700/700 [==============================] - 0s 443us/sample - loss: 0.5259 - accuracy: 0.7714 - val_loss: 0.6102 - val_accuracy: 0.7467\n",
      "Epoch 15/20\n",
      "700/700 [==============================] - 0s 450us/sample - loss: 0.5098 - accuracy: 0.7757 - val_loss: 0.5927 - val_accuracy: 0.7767\n",
      "Epoch 16/20\n",
      "700/700 [==============================] - 0s 453us/sample - loss: 0.4936 - accuracy: 0.7929 - val_loss: 0.6051 - val_accuracy: 0.7300\n",
      "Epoch 17/20\n",
      "700/700 [==============================] - 0s 445us/sample - loss: 0.4929 - accuracy: 0.7929 - val_loss: 0.6355 - val_accuracy: 0.6900\n",
      "Epoch 18/20\n",
      "700/700 [==============================] - 0s 471us/sample - loss: 0.4963 - accuracy: 0.7757 - val_loss: 0.6006 - val_accuracy: 0.7100\n",
      "Epoch 19/20\n",
      "700/700 [==============================] - 0s 484us/sample - loss: 0.4843 - accuracy: 0.7957 - val_loss: 0.5964 - val_accuracy: 0.7400\n",
      "Epoch 20/20\n",
      "700/700 [==============================] - 0s 483us/sample - loss: 0.4814 - accuracy: 0.8071 - val_loss: 0.5982 - val_accuracy: 0.7300\n"
     ]
    }
   ],
   "source": [
    "numEpochs = 20\n",
    "history = model.fit(trainInput.reshape(-1, numCells, numCells, 1),\n",
    "                    trainOutput, epochs=numEpochs, validation_split=0.3)"
   ]
  },
  {
   "cell_type": "markdown",
   "metadata": {},
   "source": [
    "## Plotting the model performance"
   ]
  },
  {
   "cell_type": "code",
   "execution_count": 11,
   "metadata": {},
   "outputs": [
    {
     "data": {
      "image/png": "[encoded data removed]",
      "text/plain": [
       "<Figure size 432x288 with 1 Axes>"
      ]
     },
     "metadata": {
      "needs_background": "light"
     },
     "output_type": "display_data"
    }
   ],
   "source": [
    "# plot the loss against epoch\n",
    "plt.plot(history.history['loss'], label='loss')\n",
    "plt.plot(history.history['val_loss'], label='val loss')\n",
    "plt.xlabel('Epoch')\n",
    "plt.ylabel('Loss')\n",
    "plt.legend(loc='best')\n",
    "plt.show()"
   ]
  },
  {
   "cell_type": "markdown",
   "metadata": {},
   "source": [
    "## Summary of the model"
   ]
  },
  {
   "cell_type": "markdown",
   "metadata": {
    "colab_type": "text",
    "id": "xrn3IG8YYI9D"
   },
   "source": [
    "## Predicting the the number of spots in each test sample"
   ]
  },
  {
   "cell_type": "code",
   "execution_count": 13,
   "metadata": {
    "colab": {
     "base_uri": "https://localhost:8080/",
     "height": 134
    },
    "colab_type": "code",
    "id": "ORR1x-s_YLjX",
    "outputId": "a834fc5f-0e7e-4adc-b899-8af8066ce8ef"
   },
   "outputs": [
    {
     "name": "stdout",
     "output_type": "stream",
     "text": [
      "[ 1  0  0  0  0  0  0  0  0 -1  0  0  1  0 -1  0  1  0  0  0  0  0  1  0\n",
      "  0  0  0  0  0  0  0  0  0 -1  0  0  0  0  0  0 -1  0  0 -1  0  1  0  1\n",
      "  0  0  0  0  0  0  1  0  0  0  0  1  1  0 -1  0  0  0  0 -1  0  0  0  0\n",
      "  1  0  0  0  0  0  0  0  0  0  0  0  0  1 -1  0 -1  0  0 -2  0  0  0  0\n",
      "  0  0  0  0]\n",
      "num errors = 21 (21.0 %)\n"
     ]
    }
   ],
   "source": [
    "predictionProbs = model.predict(testInput.reshape(-1, numCells, numCells, 1))\n",
    "predClassInds = np.argmax(predictionProbs, axis=1)\n",
    "# compute the errors: difference between predictions and testOuput\n",
    "errors = predClassInds - testOutput\n",
    "numErrors = (errors != 0).sum()\n",
    "print(errors)\n",
    "print(f'num errors = {numErrors} ({100*numErrors/numTest} %)')"
   ]
  },
  {
   "cell_type": "markdown",
   "metadata": {
    "colab_type": "text",
    "id": "KfdSdvj84GaR"
   },
   "source": [
    "\n",
    "Plotting datasets for which the predictions were wrong"
   ]
  },
  {
   "cell_type": "code",
   "execution_count": 14,
   "metadata": {
    "colab": {
     "base_uri": "https://localhost:8080/",
     "height": 237
    },
    "colab_type": "code",
    "id": "zz01RfV3jwyC",
    "outputId": "05524024-e5c8-4d68-e5c2-756bcf16696c"
   },
   "outputs": [
    {
     "data": {
      "image/png": "[encoded data removed]",
      "text/plain": [
       "<Figure size 432x288 with 10 Axes>"
      ]
     },
     "metadata": {
      "needs_background": "light"
     },
     "output_type": "display_data"
    }
   ],
   "source": [
    "inds = np.nonzero(errors != 0)[0]\n",
    "failuresInput = testInput[inds, :]\n",
    "failuresOutput = predClassInds[inds]\n",
    "correctOutput = [categories[i] for i in testOutput[inds]]\n",
    "numFailures = len(failuresOutput)\n",
    "plotData(0, min(10, numFailures), failuresInput, failuresOutput, correctOutput)"
   ]
  },
  {
   "cell_type": "markdown",
   "metadata": {},
   "source": [
    "## Exercise\n",
    "\n",
    "Try to improve our initial model. Feel free to change anything above, such as:\n",
    "\n",
    "* parameters for the layers (convolution, pooling, dense - see for example the [convolution layers documentation](https://keras.io/layers/convolutional/))\n",
    "  - number of filters, kernel size, stride, etc.\n",
    "* add or remove layers (e.g. convolution, pooling, dense layers)\n",
    "* adjust other parameters, e.g. the size of the input dataset\n",
    "\n",
    "See if you can reduce the error.\n",
    "\n",
    "Once you have improved improved your model, try changing the random seed and see if the behaviour changes."
   ]
  }
 ],
 "metadata": {
  "colab": {
   "collapsed_sections": [],
   "name": "countSpots.ipynb",
   "provenance": [],
   "version": "0.3.2"
  },
  "kernelspec": {
   "display_name": "Python 3",
   "language": "python",
   "name": "python3"
  },
  "language_info": {
   "codemirror_mode": {
    "name": "ipython",
    "version": 3
   },
   "file_extension": ".py",
   "mimetype": "text/x-python",
   "name": "python",
   "nbconvert_exporter": "python",
   "pygments_lexer": "ipython3",
   "version": "3.7.5"
  }
 },
 "nbformat": 4,
 "nbformat_minor": 4
}
